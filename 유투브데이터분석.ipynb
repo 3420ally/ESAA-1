{
 "cells": [
  {
   "cell_type": "code",
   "execution_count": 1,
   "metadata": {},
   "outputs": [],
   "source": [
    "from pandas import *\n",
    "import pandas as pd\n",
    "import numpy as np\n",
    "import matplotlib.pyplot as plt\n",
    "import matplotlib.font_manager as fm"
   ]
  },
  {
   "cell_type": "code",
   "execution_count": 2,
   "metadata": {},
   "outputs": [],
   "source": [
    "#한국 데이터 불러오기\n",
    "input_fd = open('./youtube-new/KRvideos.csv',errors = 'backslashreplace',encoding='utf-8')\n",
    "KRvideos = pd.read_csv(input_fd)\n",
    "KR = pd.DataFrame(KRvideos)\n",
    "\n",
    "#미국 데이터 불러오기\n",
    "USvideos = pd.read_csv('./youtube-new/USvideos.csv')\n",
    "US = pd.DataFrame(USvideos)"
   ]
  },
  {
   "cell_type": "code",
   "execution_count": 3,
   "metadata": {
    "scrolled": true
   },
   "outputs": [
    {
     "data": {
      "text/html": [
       "<div>\n",
       "<style scoped>\n",
       "    .dataframe tbody tr th:only-of-type {\n",
       "        vertical-align: middle;\n",
       "    }\n",
       "\n",
       "    .dataframe tbody tr th {\n",
       "        vertical-align: top;\n",
       "    }\n",
       "\n",
       "    .dataframe thead th {\n",
       "        text-align: right;\n",
       "    }\n",
       "</style>\n",
       "<table border=\"1\" class=\"dataframe\">\n",
       "  <thead>\n",
       "    <tr style=\"text-align: right;\">\n",
       "      <th></th>\n",
       "      <th>video_id</th>\n",
       "      <th>trending_date</th>\n",
       "      <th>title</th>\n",
       "      <th>channel_title</th>\n",
       "      <th>category_id</th>\n",
       "      <th>publish_time</th>\n",
       "      <th>tags</th>\n",
       "      <th>views</th>\n",
       "      <th>likes</th>\n",
       "      <th>dislikes</th>\n",
       "      <th>comment_count</th>\n",
       "      <th>thumbnail_link</th>\n",
       "      <th>comments_disabled</th>\n",
       "      <th>ratings_disabled</th>\n",
       "      <th>video_error_or_removed</th>\n",
       "      <th>description</th>\n",
       "    </tr>\n",
       "  </thead>\n",
       "  <tbody>\n",
       "    <tr>\n",
       "      <th>0</th>\n",
       "      <td>RxGQe4EeEpA</td>\n",
       "      <td>17.14.11</td>\n",
       "      <td>좋아 by 민서_윤종신_좋니 답가</td>\n",
       "      <td>라푸마코리아</td>\n",
       "      <td>22</td>\n",
       "      <td>2017-11-13T07:07:36.000Z</td>\n",
       "      <td>라푸마|\"윤종신\"|\"좋니\"|\"좋아\"|\"샬레\"|\"민서\"</td>\n",
       "      <td>156130</td>\n",
       "      <td>1422</td>\n",
       "      <td>40</td>\n",
       "      <td>272</td>\n",
       "      <td>https://i.ytimg.com/vi/RxGQe4EeEpA/default.jpg</td>\n",
       "      <td>False</td>\n",
       "      <td>False</td>\n",
       "      <td>False</td>\n",
       "      <td>윤종신 '좋니'의 답가 '좋아' 최초 공개!\\n그 여자의 이야기를 지금 만나보세요....</td>\n",
       "    </tr>\n",
       "    <tr>\n",
       "      <th>1</th>\n",
       "      <td>hH7wVE8OlQ0</td>\n",
       "      <td>17.14.11</td>\n",
       "      <td>JSA 귀순 북한군 총격 부상</td>\n",
       "      <td>Edward</td>\n",
       "      <td>25</td>\n",
       "      <td>2017-11-13T10:59:16.000Z</td>\n",
       "      <td>JSA|\"귀순\"|\"북한군\"|\"총격\"|\"부상\"|\"JSA 귀순 북한군 총격 부상\"</td>\n",
       "      <td>76533</td>\n",
       "      <td>211</td>\n",
       "      <td>28</td>\n",
       "      <td>113</td>\n",
       "      <td>https://i.ytimg.com/vi/hH7wVE8OlQ0/default.jpg</td>\n",
       "      <td>False</td>\n",
       "      <td>False</td>\n",
       "      <td>False</td>\n",
       "      <td>[채널A단독]北 병사 현재 '의식불명'… 혈압 떨어지는 중 \\n[채널A단독]우리측 ...</td>\n",
       "    </tr>\n",
       "    <tr>\n",
       "      <th>2</th>\n",
       "      <td>9V8bnWUmE9U</td>\n",
       "      <td>17.14.11</td>\n",
       "      <td>나몰라패밀리 운동화 영상 2탄 (빼빼로데이버젼)</td>\n",
       "      <td>나몰라패밀리 핫쇼</td>\n",
       "      <td>22</td>\n",
       "      <td>2017-11-11T07:16:08.000Z</td>\n",
       "      <td>아디다스|\"빼빼로\"|\"핫쇼\"|\"나몰라패밀리\"|\"대학로\"|\"공연\"</td>\n",
       "      <td>421409</td>\n",
       "      <td>5112</td>\n",
       "      <td>166</td>\n",
       "      <td>459</td>\n",
       "      <td>https://i.ytimg.com/vi/9V8bnWUmE9U/default.jpg</td>\n",
       "      <td>False</td>\n",
       "      <td>False</td>\n",
       "      <td>False</td>\n",
       "      <td>퍼가실때 꼭 출처 부탁드려요</td>\n",
       "    </tr>\n",
       "    <tr>\n",
       "      <th>3</th>\n",
       "      <td>0_8py-t5R80</td>\n",
       "      <td>17.14.11</td>\n",
       "      <td>이명박 출국 현장, 놓치면 안되는 장면</td>\n",
       "      <td>미디어몽구</td>\n",
       "      <td>25</td>\n",
       "      <td>2017-11-12T11:19:52.000Z</td>\n",
       "      <td>이명박|\"이명박 출국금지\"|\"이명박 출국현장\"|\"이명박 바레인\"|\"이명박 대통령\"|...</td>\n",
       "      <td>222850</td>\n",
       "      <td>2093</td>\n",
       "      <td>173</td>\n",
       "      <td>1219</td>\n",
       "      <td>https://i.ytimg.com/vi/0_8py-t5R80/default.jpg</td>\n",
       "      <td>False</td>\n",
       "      <td>False</td>\n",
       "      <td>False</td>\n",
       "      <td>다스는 누구겁니까 듣고 난 후 표정</td>\n",
       "    </tr>\n",
       "    <tr>\n",
       "      <th>4</th>\n",
       "      <td>bk55RbxiQdI</td>\n",
       "      <td>17.14.11</td>\n",
       "      <td>김장겸은 물러갔다 MBC 노조 환호와 눈물</td>\n",
       "      <td>NocutV</td>\n",
       "      <td>25</td>\n",
       "      <td>2017-11-13T11:08:59.000Z</td>\n",
       "      <td>nocutV|\"노컷V\"|\"CBS\"|\"mbc\"|\"김장겸\"|\"해임\"|\"허일후\"</td>\n",
       "      <td>84466</td>\n",
       "      <td>1094</td>\n",
       "      <td>109</td>\n",
       "      <td>450</td>\n",
       "      <td>https://i.ytimg.com/vi/bk55RbxiQdI/default.jpg</td>\n",
       "      <td>False</td>\n",
       "      <td>False</td>\n",
       "      <td>False</td>\n",
       "      <td>김장겸 MBC 사장이 결국 해임됐다.\\n\\nMBC 대주주인 방송문화진흥회는 13일 ...</td>\n",
       "    </tr>\n",
       "  </tbody>\n",
       "</table>\n",
       "</div>"
      ],
      "text/plain": [
       "      video_id trending_date                       title channel_title  \\\n",
       "0  RxGQe4EeEpA      17.14.11          좋아 by 민서_윤종신_좋니 답가        라푸마코리아   \n",
       "1  hH7wVE8OlQ0      17.14.11            JSA 귀순 북한군 총격 부상        Edward   \n",
       "2  9V8bnWUmE9U      17.14.11  나몰라패밀리 운동화 영상 2탄 (빼빼로데이버젼)     나몰라패밀리 핫쇼   \n",
       "3  0_8py-t5R80      17.14.11  이명박 출국 현장, 놓치면 안되는 장면         미디어몽구   \n",
       "4  bk55RbxiQdI      17.14.11     김장겸은 물러갔다 MBC 노조 환호와 눈물        NocutV   \n",
       "\n",
       "   category_id              publish_time  \\\n",
       "0           22  2017-11-13T07:07:36.000Z   \n",
       "1           25  2017-11-13T10:59:16.000Z   \n",
       "2           22  2017-11-11T07:16:08.000Z   \n",
       "3           25  2017-11-12T11:19:52.000Z   \n",
       "4           25  2017-11-13T11:08:59.000Z   \n",
       "\n",
       "                                                tags   views  likes  dislikes  \\\n",
       "0                      라푸마|\"윤종신\"|\"좋니\"|\"좋아\"|\"샬레\"|\"민서\"  156130   1422        40   \n",
       "1        JSA|\"귀순\"|\"북한군\"|\"총격\"|\"부상\"|\"JSA 귀순 북한군 총격 부상\"   76533    211        28   \n",
       "2                아디다스|\"빼빼로\"|\"핫쇼\"|\"나몰라패밀리\"|\"대학로\"|\"공연\"  421409   5112       166   \n",
       "3  이명박|\"이명박 출국금지\"|\"이명박 출국현장\"|\"이명박 바레인\"|\"이명박 대통령\"|...  222850   2093       173   \n",
       "4          nocutV|\"노컷V\"|\"CBS\"|\"mbc\"|\"김장겸\"|\"해임\"|\"허일후\"   84466   1094       109   \n",
       "\n",
       "   comment_count                                  thumbnail_link  \\\n",
       "0            272  https://i.ytimg.com/vi/RxGQe4EeEpA/default.jpg   \n",
       "1            113  https://i.ytimg.com/vi/hH7wVE8OlQ0/default.jpg   \n",
       "2            459  https://i.ytimg.com/vi/9V8bnWUmE9U/default.jpg   \n",
       "3           1219  https://i.ytimg.com/vi/0_8py-t5R80/default.jpg   \n",
       "4            450  https://i.ytimg.com/vi/bk55RbxiQdI/default.jpg   \n",
       "\n",
       "   comments_disabled  ratings_disabled  video_error_or_removed  \\\n",
       "0              False             False                   False   \n",
       "1              False             False                   False   \n",
       "2              False             False                   False   \n",
       "3              False             False                   False   \n",
       "4              False             False                   False   \n",
       "\n",
       "                                         description  \n",
       "0  윤종신 '좋니'의 답가 '좋아' 최초 공개!\\n그 여자의 이야기를 지금 만나보세요....  \n",
       "1  [채널A단독]北 병사 현재 '의식불명'… 혈압 떨어지는 중 \\n[채널A단독]우리측 ...  \n",
       "2                                    퍼가실때 꼭 출처 부탁드려요  \n",
       "3                                다스는 누구겁니까 듣고 난 후 표정  \n",
       "4  김장겸 MBC 사장이 결국 해임됐다.\\n\\nMBC 대주주인 방송문화진흥회는 13일 ...  "
      ]
     },
     "execution_count": 3,
     "metadata": {},
     "output_type": "execute_result"
    }
   ],
   "source": [
    "#한국 데이터 확인\n",
    "KR.head()"
   ]
  },
  {
   "cell_type": "code",
   "execution_count": 4,
   "metadata": {
    "scrolled": true
   },
   "outputs": [
    {
     "data": {
      "text/html": [
       "<div>\n",
       "<style scoped>\n",
       "    .dataframe tbody tr th:only-of-type {\n",
       "        vertical-align: middle;\n",
       "    }\n",
       "\n",
       "    .dataframe tbody tr th {\n",
       "        vertical-align: top;\n",
       "    }\n",
       "\n",
       "    .dataframe thead th {\n",
       "        text-align: right;\n",
       "    }\n",
       "</style>\n",
       "<table border=\"1\" class=\"dataframe\">\n",
       "  <thead>\n",
       "    <tr style=\"text-align: right;\">\n",
       "      <th></th>\n",
       "      <th>video_id</th>\n",
       "      <th>trending_date</th>\n",
       "      <th>title</th>\n",
       "      <th>channel_title</th>\n",
       "      <th>category_id</th>\n",
       "      <th>publish_time</th>\n",
       "      <th>tags</th>\n",
       "      <th>views</th>\n",
       "      <th>likes</th>\n",
       "      <th>dislikes</th>\n",
       "      <th>comment_count</th>\n",
       "      <th>thumbnail_link</th>\n",
       "      <th>comments_disabled</th>\n",
       "      <th>ratings_disabled</th>\n",
       "      <th>video_error_or_removed</th>\n",
       "      <th>description</th>\n",
       "    </tr>\n",
       "  </thead>\n",
       "  <tbody>\n",
       "    <tr>\n",
       "      <th>0</th>\n",
       "      <td>2kyS6SvSYSE</td>\n",
       "      <td>17.14.11</td>\n",
       "      <td>WE WANT TO TALK ABOUT OUR MARRIAGE</td>\n",
       "      <td>CaseyNeistat</td>\n",
       "      <td>22</td>\n",
       "      <td>2017-11-13T17:13:01.000Z</td>\n",
       "      <td>SHANtell martin</td>\n",
       "      <td>748374</td>\n",
       "      <td>57527</td>\n",
       "      <td>2966</td>\n",
       "      <td>15954</td>\n",
       "      <td>https://i.ytimg.com/vi/2kyS6SvSYSE/default.jpg</td>\n",
       "      <td>False</td>\n",
       "      <td>False</td>\n",
       "      <td>False</td>\n",
       "      <td>SHANTELL'S CHANNEL - https://www.youtube.com/s...</td>\n",
       "    </tr>\n",
       "    <tr>\n",
       "      <th>1</th>\n",
       "      <td>1ZAPwfrtAFY</td>\n",
       "      <td>17.14.11</td>\n",
       "      <td>The Trump Presidency: Last Week Tonight with J...</td>\n",
       "      <td>LastWeekTonight</td>\n",
       "      <td>24</td>\n",
       "      <td>2017-11-13T07:30:00.000Z</td>\n",
       "      <td>last week tonight trump presidency|\"last week ...</td>\n",
       "      <td>2418783</td>\n",
       "      <td>97185</td>\n",
       "      <td>6146</td>\n",
       "      <td>12703</td>\n",
       "      <td>https://i.ytimg.com/vi/1ZAPwfrtAFY/default.jpg</td>\n",
       "      <td>False</td>\n",
       "      <td>False</td>\n",
       "      <td>False</td>\n",
       "      <td>One year after the presidential election, John...</td>\n",
       "    </tr>\n",
       "    <tr>\n",
       "      <th>2</th>\n",
       "      <td>5qpjK5DgCt4</td>\n",
       "      <td>17.14.11</td>\n",
       "      <td>Racist Superman | Rudy Mancuso, King Bach &amp; Le...</td>\n",
       "      <td>Rudy Mancuso</td>\n",
       "      <td>23</td>\n",
       "      <td>2017-11-12T19:05:24.000Z</td>\n",
       "      <td>racist superman|\"rudy\"|\"mancuso\"|\"king\"|\"bach\"...</td>\n",
       "      <td>3191434</td>\n",
       "      <td>146033</td>\n",
       "      <td>5339</td>\n",
       "      <td>8181</td>\n",
       "      <td>https://i.ytimg.com/vi/5qpjK5DgCt4/default.jpg</td>\n",
       "      <td>False</td>\n",
       "      <td>False</td>\n",
       "      <td>False</td>\n",
       "      <td>WATCH MY PREVIOUS VIDEO ▶ \\n\\nSUBSCRIBE ► http...</td>\n",
       "    </tr>\n",
       "    <tr>\n",
       "      <th>3</th>\n",
       "      <td>puqaWrEC7tY</td>\n",
       "      <td>17.14.11</td>\n",
       "      <td>Nickelback Lyrics: Real or Fake?</td>\n",
       "      <td>Good Mythical Morning</td>\n",
       "      <td>24</td>\n",
       "      <td>2017-11-13T11:00:04.000Z</td>\n",
       "      <td>rhett and link|\"gmm\"|\"good mythical morning\"|\"...</td>\n",
       "      <td>343168</td>\n",
       "      <td>10172</td>\n",
       "      <td>666</td>\n",
       "      <td>2146</td>\n",
       "      <td>https://i.ytimg.com/vi/puqaWrEC7tY/default.jpg</td>\n",
       "      <td>False</td>\n",
       "      <td>False</td>\n",
       "      <td>False</td>\n",
       "      <td>Today we find out if Link is a Nickelback amat...</td>\n",
       "    </tr>\n",
       "    <tr>\n",
       "      <th>4</th>\n",
       "      <td>d380meD0W0M</td>\n",
       "      <td>17.14.11</td>\n",
       "      <td>I Dare You: GOING BALD!?</td>\n",
       "      <td>nigahiga</td>\n",
       "      <td>24</td>\n",
       "      <td>2017-11-12T18:01:41.000Z</td>\n",
       "      <td>ryan|\"higa\"|\"higatv\"|\"nigahiga\"|\"i dare you\"|\"...</td>\n",
       "      <td>2095731</td>\n",
       "      <td>132235</td>\n",
       "      <td>1989</td>\n",
       "      <td>17518</td>\n",
       "      <td>https://i.ytimg.com/vi/d380meD0W0M/default.jpg</td>\n",
       "      <td>False</td>\n",
       "      <td>False</td>\n",
       "      <td>False</td>\n",
       "      <td>I know it's been a while since we did this sho...</td>\n",
       "    </tr>\n",
       "  </tbody>\n",
       "</table>\n",
       "</div>"
      ],
      "text/plain": [
       "      video_id trending_date  \\\n",
       "0  2kyS6SvSYSE      17.14.11   \n",
       "1  1ZAPwfrtAFY      17.14.11   \n",
       "2  5qpjK5DgCt4      17.14.11   \n",
       "3  puqaWrEC7tY      17.14.11   \n",
       "4  d380meD0W0M      17.14.11   \n",
       "\n",
       "                                               title          channel_title  \\\n",
       "0                 WE WANT TO TALK ABOUT OUR MARRIAGE           CaseyNeistat   \n",
       "1  The Trump Presidency: Last Week Tonight with J...        LastWeekTonight   \n",
       "2  Racist Superman | Rudy Mancuso, King Bach & Le...           Rudy Mancuso   \n",
       "3                   Nickelback Lyrics: Real or Fake?  Good Mythical Morning   \n",
       "4                           I Dare You: GOING BALD!?               nigahiga   \n",
       "\n",
       "   category_id              publish_time  \\\n",
       "0           22  2017-11-13T17:13:01.000Z   \n",
       "1           24  2017-11-13T07:30:00.000Z   \n",
       "2           23  2017-11-12T19:05:24.000Z   \n",
       "3           24  2017-11-13T11:00:04.000Z   \n",
       "4           24  2017-11-12T18:01:41.000Z   \n",
       "\n",
       "                                                tags    views   likes  \\\n",
       "0                                    SHANtell martin   748374   57527   \n",
       "1  last week tonight trump presidency|\"last week ...  2418783   97185   \n",
       "2  racist superman|\"rudy\"|\"mancuso\"|\"king\"|\"bach\"...  3191434  146033   \n",
       "3  rhett and link|\"gmm\"|\"good mythical morning\"|\"...   343168   10172   \n",
       "4  ryan|\"higa\"|\"higatv\"|\"nigahiga\"|\"i dare you\"|\"...  2095731  132235   \n",
       "\n",
       "   dislikes  comment_count                                  thumbnail_link  \\\n",
       "0      2966          15954  https://i.ytimg.com/vi/2kyS6SvSYSE/default.jpg   \n",
       "1      6146          12703  https://i.ytimg.com/vi/1ZAPwfrtAFY/default.jpg   \n",
       "2      5339           8181  https://i.ytimg.com/vi/5qpjK5DgCt4/default.jpg   \n",
       "3       666           2146  https://i.ytimg.com/vi/puqaWrEC7tY/default.jpg   \n",
       "4      1989          17518  https://i.ytimg.com/vi/d380meD0W0M/default.jpg   \n",
       "\n",
       "   comments_disabled  ratings_disabled  video_error_or_removed  \\\n",
       "0              False             False                   False   \n",
       "1              False             False                   False   \n",
       "2              False             False                   False   \n",
       "3              False             False                   False   \n",
       "4              False             False                   False   \n",
       "\n",
       "                                         description  \n",
       "0  SHANTELL'S CHANNEL - https://www.youtube.com/s...  \n",
       "1  One year after the presidential election, John...  \n",
       "2  WATCH MY PREVIOUS VIDEO ▶ \\n\\nSUBSCRIBE ► http...  \n",
       "3  Today we find out if Link is a Nickelback amat...  \n",
       "4  I know it's been a while since we did this sho...  "
      ]
     },
     "execution_count": 4,
     "metadata": {},
     "output_type": "execute_result"
    }
   ],
   "source": [
    "#미국 데이터 확인\n",
    "US.head()"
   ]
  },
  {
   "cell_type": "markdown",
   "metadata": {},
   "source": [
    "# 4. 인기채널 top 10"
   ]
  },
  {
   "cell_type": "markdown",
   "metadata": {},
   "source": [
    "## 인기채널 top10 (조회수 순)"
   ]
  },
  {
   "cell_type": "code",
   "execution_count": 5,
   "metadata": {},
   "outputs": [],
   "source": [
    "# 한국\n",
    "KR_top_views = KR.groupby('channel_title')['views'].max().sort_values(ascending=False)"
   ]
  },
  {
   "cell_type": "code",
   "execution_count": 6,
   "metadata": {
    "scrolled": true
   },
   "outputs": [
    {
     "data": {
      "text/plain": [
       "channel_title\n",
       "YouTube Spotlight              113876217\n",
       "Marvel Entertainment            87450245\n",
       "ibighit                         87430865\n",
       "ChildishGambinoVEVO             73432600\n",
       "Sony Pictures Entertainment     49185287\n",
       "jypentertainment                42267579\n",
       "Bruno Mars                      37728802\n",
       "Kylie Jenner                    35832484\n",
       "TaylorSwiftVEVO                 35218973\n",
       "ArianaGrandeVevo                32331284\n",
       "Name: views, dtype: int64"
      ]
     },
     "execution_count": 6,
     "metadata": {},
     "output_type": "execute_result"
    }
   ],
   "source": [
    "KR_top10_views = KR_top_views.head(10)\n",
    "KR_top10_views"
   ]
  },
  {
   "cell_type": "code",
   "execution_count": 7,
   "metadata": {
    "scrolled": false
   },
   "outputs": [
    {
     "data": {
      "text/plain": [
       "channel_title\n",
       "ChildishGambinoVEVO     225211923\n",
       "YouTube Spotlight       149376127\n",
       "ArianaGrandeVevo        148689896\n",
       "BeckyGVEVO              139334502\n",
       "ibighit                 123010920\n",
       "TheWeekndVEVO           122544931\n",
       "LuisFonsiVEVO           102012605\n",
       "Cardi B                  94254507\n",
       "Marvel Entertainment     91933007\n",
       "MalumaVEVO               87264467\n",
       "Name: views, dtype: int64"
      ]
     },
     "execution_count": 7,
     "metadata": {},
     "output_type": "execute_result"
    }
   ],
   "source": [
    "# 미국\n",
    "US_top_views = US.groupby('channel_title')['views'].max().sort_values(ascending=False)\n",
    "US_top10_views = US_top_views.head(10)\n",
    "US_top10_views"
   ]
  },
  {
   "cell_type": "code",
   "execution_count": 8,
   "metadata": {
    "scrolled": true
   },
   "outputs": [
    {
     "data": {
      "text/plain": [
       "<matplotlib.axes._subplots.AxesSubplot at 0x116d7ee80>"
      ]
     },
     "execution_count": 8,
     "metadata": {},
     "output_type": "execute_result"
    },
    {
     "data": {
      "image/png": "[encoded data removed]",
      "text/plain": [
       "<Figure size 1440x360 with 1 Axes>"
      ]
     },
     "metadata": {
      "needs_background": "light"
     },
     "output_type": "display_data"
    }
   ],
   "source": [
    "plt.rcParams['figure.figsize'] = [20, 5]\n",
    "KR_top10_views.plot(kind=\"bar\", color=\"red\", alpha=0.5)"
   ]
  },
  {
   "cell_type": "code",
   "execution_count": 9,
   "metadata": {
    "scrolled": true
   },
   "outputs": [
    {
     "data": {
      "text/plain": [
       "<matplotlib.axes._subplots.AxesSubplot at 0x116d66c50>"
      ]
     },
     "execution_count": 9,
     "metadata": {},
     "output_type": "execute_result"
    },
    {
     "data": {
      "image/png": "[encoded data removed]",
      "text/plain": [
       "<Figure size 1440x360 with 1 Axes>"
      ]
     },
     "metadata": {
      "needs_background": "light"
     },
     "output_type": "display_data"
    }
   ],
   "source": [
    "US_top10_views.plot(kind=\"bar\", color=\"blue\", alpha=0.5)"
   ]
  },
  {
   "cell_type": "markdown",
   "metadata": {},
   "source": [
    "한국에서는 YouTube Spotlight, 미국에서는 ChildishGambinoVEVO 채널이 인기채널 1위이다. \n",
    "또한, 한국과 미국 모두 공통적으로 YouTube Spotlight, ibighit, Marvel Entertainment, ArianaGrandeVevo 가 조회순 인기채널 TOP10 내에 존재하고 있다."
   ]
  },
  {
   "cell_type": "markdown",
   "metadata": {},
   "source": [
    "## 인기채널 top10 (좋아요 순)"
   ]
  },
  {
   "cell_type": "code",
   "execution_count": 10,
   "metadata": {},
   "outputs": [
    {
     "data": {
      "text/plain": [
       "channel_title\n",
       "ibighit                        5150839\n",
       "YouTube Spotlight              2811223\n",
       "Marvel Entertainment           2584675\n",
       "ChildishGambinoVEVO            2478908\n",
       "ArianaGrandeVevo               1890564\n",
       "TaylorSwiftVEVO                1681449\n",
       "Bruno Mars                     1629948\n",
       "Maroon5VEVO                    1547857\n",
       "DrakeVEVO                      1431554\n",
       "Sony Pictures Entertainment    1204868\n",
       "Name: likes, dtype: int64"
      ]
     },
     "execution_count": 10,
     "metadata": {},
     "output_type": "execute_result"
    }
   ],
   "source": [
    "# 한국\n",
    "KR_top_likes = KR.groupby('channel_title')['likes'].max().sort_values(ascending=False)\n",
    "KR_top10_likes = KR_top_likes.head(10)\n",
    "KR_top10_likes"
   ]
  },
  {
   "cell_type": "code",
   "execution_count": 11,
   "metadata": {},
   "outputs": [
    {
     "data": {
      "text/plain": [
       "channel_title\n",
       "ibighit                 5613827\n",
       "ChildishGambinoVEVO     5023450\n",
       "ArianaGrandeVevo        3094021\n",
       "YouTube Spotlight       3093544\n",
       "Marvel Entertainment    2625661\n",
       "Maroon5VEVO             2488565\n",
       "LuisFonsiVEVO           2376636\n",
       "David Dobrik            2032463\n",
       "Logan Paul Vlogs        1988746\n",
       "TaylorSwiftVEVO         1928392\n",
       "Name: likes, dtype: int64"
      ]
     },
     "execution_count": 11,
     "metadata": {},
     "output_type": "execute_result"
    }
   ],
   "source": [
    "# 미국\n",
    "US_top_likes = US.groupby('channel_title')['likes'].max().sort_values(ascending=False)\n",
    "US_top10_likes = US_top_likes.head(10)\n",
    "US_top10_likes"
   ]
  },
  {
   "cell_type": "code",
   "execution_count": 12,
   "metadata": {},
   "outputs": [
    {
     "data": {
      "text/plain": [
       "<matplotlib.axes._subplots.AxesSubplot at 0x1168e2978>"
      ]
     },
     "execution_count": 12,
     "metadata": {},
     "output_type": "execute_result"
    },
    {
     "data": {
      "image/png": "[encoded data removed]",
      "text/plain": [
       "<Figure size 1440x360 with 1 Axes>"
      ]
     },
     "metadata": {
      "needs_background": "light"
     },
     "output_type": "display_data"
    }
   ],
   "source": [
    "KR_top10_likes.plot(kind=\"bar\", color=\"red\", alpha=0.5)"
   ]
  },
  {
   "cell_type": "code",
   "execution_count": 13,
   "metadata": {},
   "outputs": [
    {
     "data": {
      "text/plain": [
       "<matplotlib.axes._subplots.AxesSubplot at 0x1168aa8d0>"
      ]
     },
     "execution_count": 13,
     "metadata": {},
     "output_type": "execute_result"
    },
    {
     "data": {
      "image/png": "[encoded data removed]",
      "text/plain": [
       "<Figure size 1440x360 with 1 Axes>"
      ]
     },
     "metadata": {
      "needs_background": "light"
     },
     "output_type": "display_data"
    }
   ],
   "source": [
    "US_top10_likes.plot(kind=\"bar\", color=\"blue\", alpha=0.5)"
   ]
  },
  {
   "cell_type": "markdown",
   "metadata": {},
   "source": [
    "한국과 미국의 인기채널 1순위는 공통적으로 ibighit 라는 사실을 알 수 있다.\n",
    "그 외에도 YouTube Spotlight, Marvel Entertainment, ArianaGrandeVevo, ChildishGambinoVEVO, TaylorSwiftVEVO 등이 한국과 미국의 좋아요순 인기채널 TOP10에 존재하고 있다."
   ]
  },
  {
   "cell_type": "markdown",
   "metadata": {},
   "source": [
    "앞서 본 조회수순 인기채널 TOP10과 좋아요순 인기채널 TOP10 을 통하여 알 수 있는 사실은, 나라가 다름에도 불구하고 인기가 많은 채널은 공통적으로 공유되고 있다는 점이다. 또한, 한국에서 미국 팝가수 채널들을 포함한 미국 채널들이 꽤 큰 관심을 받고 있다는 사실 또한 발견할 수 있었다."
   ]
  },
  {
   "cell_type": "markdown",
   "metadata": {},
   "source": [
    "# 5-1) 인기 영상에 가장 많이 진입한 채널 top10"
   ]
  },
  {
   "cell_type": "code",
   "execution_count": 14,
   "metadata": {},
   "outputs": [],
   "source": [
    "# 한국 \n",
    "\n",
    "# 채널이름을 그룹화 하여 count 적용\n",
    "KR_popular_channel = KR.groupby('channel_title').count()"
   ]
  },
  {
   "cell_type": "code",
   "execution_count": 15,
   "metadata": {},
   "outputs": [],
   "source": [
    "# 현재 채널마다 모든 열에 대해 유투브 인기 영상에 진입한 횟수가 기입되었기 때문에 임의의 열을 가져와 'count'라는 이름의 열로 재생성\n",
    "KR_popular_channel['count'] = KR_popular_channel['trending_date']"
   ]
  },
  {
   "cell_type": "code",
   "execution_count": 16,
   "metadata": {
    "scrolled": true
   },
   "outputs": [
    {
     "data": {
      "text/html": [
       "<div>\n",
       "<style scoped>\n",
       "    .dataframe tbody tr th:only-of-type {\n",
       "        vertical-align: middle;\n",
       "    }\n",
       "\n",
       "    .dataframe tbody tr th {\n",
       "        vertical-align: top;\n",
       "    }\n",
       "\n",
       "    .dataframe thead th {\n",
       "        text-align: right;\n",
       "    }\n",
       "</style>\n",
       "<table border=\"1\" class=\"dataframe\">\n",
       "  <thead>\n",
       "    <tr style=\"text-align: right;\">\n",
       "      <th></th>\n",
       "      <th>count</th>\n",
       "    </tr>\n",
       "    <tr>\n",
       "      <th>channel_title</th>\n",
       "      <th></th>\n",
       "    </tr>\n",
       "  </thead>\n",
       "  <tbody>\n",
       "    <tr>\n",
       "      <th>신의한수</th>\n",
       "      <td>222</td>\n",
       "    </tr>\n",
       "    <tr>\n",
       "      <th>정규재TV</th>\n",
       "      <td>219</td>\n",
       "    </tr>\n",
       "    <tr>\n",
       "      <th>도봉박홍기</th>\n",
       "      <td>218</td>\n",
       "    </tr>\n",
       "    <tr>\n",
       "      <th>보겸 TV</th>\n",
       "      <td>195</td>\n",
       "    </tr>\n",
       "    <tr>\n",
       "      <th>JTBC News</th>\n",
       "      <td>182</td>\n",
       "    </tr>\n",
       "    <tr>\n",
       "      <th>윤창중칼럼세상 TV</th>\n",
       "      <td>178</td>\n",
       "    </tr>\n",
       "    <tr>\n",
       "      <th>철구형 (CHULTUBE)</th>\n",
       "      <td>167</td>\n",
       "    </tr>\n",
       "    <tr>\n",
       "      <th>영국남자 Korean Englishman</th>\n",
       "      <td>163</td>\n",
       "    </tr>\n",
       "    <tr>\n",
       "      <th>밴쯔</th>\n",
       "      <td>162</td>\n",
       "    </tr>\n",
       "    <tr>\n",
       "      <th>1등 미디어</th>\n",
       "      <td>161</td>\n",
       "    </tr>\n",
       "  </tbody>\n",
       "</table>\n",
       "</div>"
      ],
      "text/plain": [
       "                        count\n",
       "channel_title                \n",
       "신의한수                      222\n",
       "정규재TV                     219\n",
       "도봉박홍기                     218\n",
       "보겸 TV                     195\n",
       "JTBC News                 182\n",
       "윤창중칼럼세상 TV                178\n",
       "철구형 (CHULTUBE)            167\n",
       "영국남자 Korean Englishman    163\n",
       "밴쯔                        162\n",
       "1등 미디어                    161"
      ]
     },
     "execution_count": 16,
     "metadata": {},
     "output_type": "execute_result"
    }
   ],
   "source": [
    "# 생성한 count 열만 채널이름과 함께 가져오기\n",
    "KR_popular_channel = KR_popular_channel.loc[:,['count']]\n",
    "\n",
    "# 내림차순 정렬 (인기영상에 진입한 횟수 많은 순으로)\n",
    "KR_popular_channel = KR_popular_channel.sort_values('count', ascending=False)\n",
    "\n",
    "# top 10\n",
    "KR_popular_channel_top10 = KR_popular_channel.iloc[:10]\n",
    "KR_popular_channel_top10"
   ]
  },
  {
   "cell_type": "code",
   "execution_count": 27,
   "metadata": {},
   "outputs": [
    {
     "data": {
      "image/png": "[encoded data removed]",
      "text/plain": [
       "<Figure size 1440x360 with 1 Axes>"
      ]
     },
     "metadata": {
      "needs_background": "light"
     },
     "output_type": "display_data"
    }
   ],
   "source": [
    "path = '/Users/kimhyunkyung/Downloads/NanumBarunGothic.ttf'\n",
    "plt.rcParams['axes.unicode_minus'] = False\n",
    "plt.rcParams['figure.figsize'] = [20, 5]\n",
    "fontprop = fm.FontProperties(fname=path)\n",
    "plt.xticks(rotation=60, fontproperties=fontprop)\n",
    "plt.bar(KR_popular_channel_top10.index, KR_popular_channel_top10['count'], color='red', alpha=0.5)\n",
    "plt.show()"
   ]
  },
  {
   "cell_type": "code",
   "execution_count": 18,
   "metadata": {},
   "outputs": [
    {
     "data": {
      "text/html": [
       "<div>\n",
       "<style scoped>\n",
       "    .dataframe tbody tr th:only-of-type {\n",
       "        vertical-align: middle;\n",
       "    }\n",
       "\n",
       "    .dataframe tbody tr th {\n",
       "        vertical-align: top;\n",
       "    }\n",
       "\n",
       "    .dataframe thead th {\n",
       "        text-align: right;\n",
       "    }\n",
       "</style>\n",
       "<table border=\"1\" class=\"dataframe\">\n",
       "  <thead>\n",
       "    <tr style=\"text-align: right;\">\n",
       "      <th></th>\n",
       "      <th>count</th>\n",
       "    </tr>\n",
       "    <tr>\n",
       "      <th>channel_title</th>\n",
       "      <th></th>\n",
       "    </tr>\n",
       "  </thead>\n",
       "  <tbody>\n",
       "    <tr>\n",
       "      <th>ESPN</th>\n",
       "      <td>203</td>\n",
       "    </tr>\n",
       "    <tr>\n",
       "      <th>The Tonight Show Starring Jimmy Fallon</th>\n",
       "      <td>197</td>\n",
       "    </tr>\n",
       "    <tr>\n",
       "      <th>Vox</th>\n",
       "      <td>193</td>\n",
       "    </tr>\n",
       "    <tr>\n",
       "      <th>Netflix</th>\n",
       "      <td>193</td>\n",
       "    </tr>\n",
       "    <tr>\n",
       "      <th>TheEllenShow</th>\n",
       "      <td>193</td>\n",
       "    </tr>\n",
       "    <tr>\n",
       "      <th>The Late Show with Stephen Colbert</th>\n",
       "      <td>187</td>\n",
       "    </tr>\n",
       "    <tr>\n",
       "      <th>Jimmy Kimmel Live</th>\n",
       "      <td>186</td>\n",
       "    </tr>\n",
       "    <tr>\n",
       "      <th>Late Night with Seth Meyers</th>\n",
       "      <td>183</td>\n",
       "    </tr>\n",
       "    <tr>\n",
       "      <th>Screen Junkies</th>\n",
       "      <td>182</td>\n",
       "    </tr>\n",
       "    <tr>\n",
       "      <th>NBA</th>\n",
       "      <td>181</td>\n",
       "    </tr>\n",
       "  </tbody>\n",
       "</table>\n",
       "</div>"
      ],
      "text/plain": [
       "                                        count\n",
       "channel_title                                \n",
       "ESPN                                      203\n",
       "The Tonight Show Starring Jimmy Fallon    197\n",
       "Vox                                       193\n",
       "Netflix                                   193\n",
       "TheEllenShow                              193\n",
       "The Late Show with Stephen Colbert        187\n",
       "Jimmy Kimmel Live                         186\n",
       "Late Night with Seth Meyers               183\n",
       "Screen Junkies                            182\n",
       "NBA                                       181"
      ]
     },
     "execution_count": 18,
     "metadata": {},
     "output_type": "execute_result"
    }
   ],
   "source": [
    "# 미국\n",
    "US_popular_channel = US.groupby('channel_title').count().sort_values('trending_date', ascending=False)\n",
    "US_popular_channel['count'] = US_popular_channel['trending_date']\n",
    "US_popular_channel = US_popular_channel.loc[:,['count']]\n",
    "US_popular_channel = US_popular_channel.sort_values('count', ascending=False)\n",
    "\n",
    "# top 10\n",
    "US_popular_channel_top10 = US_popular_channel.iloc[:10]\n",
    "US_popular_channel_top10"
   ]
  },
  {
   "cell_type": "code",
   "execution_count": 19,
   "metadata": {},
   "outputs": [
    {
     "data": {
      "image/png": "[encoded data removed]",
      "text/plain": [
       "<Figure size 1440x360 with 1 Axes>"
      ]
     },
     "metadata": {
      "needs_background": "light"
     },
     "output_type": "display_data"
    }
   ],
   "source": [
    "plt.rcParams['figure.figsize'] = [20, 5]\n",
    "plt.xticks(rotation=60)\n",
    "plt.bar(US_popular_channel_top10.index, US_popular_channel_top10['count'], color='blue', alpha=0.5)\n",
    "plt.show()"
   ]
  },
  {
   "cell_type": "markdown",
   "metadata": {},
   "source": [
    "# 5-2) 인기 영상에 가장 많이 진입한 카테고리 top5"
   ]
  },
  {
   "cell_type": "code",
   "execution_count": 20,
   "metadata": {
    "scrolled": false
   },
   "outputs": [
    {
     "data": {
      "text/html": [
       "<div>\n",
       "<style scoped>\n",
       "    .dataframe tbody tr th:only-of-type {\n",
       "        vertical-align: middle;\n",
       "    }\n",
       "\n",
       "    .dataframe tbody tr th {\n",
       "        vertical-align: top;\n",
       "    }\n",
       "\n",
       "    .dataframe thead th {\n",
       "        text-align: right;\n",
       "    }\n",
       "</style>\n",
       "<table border=\"1\" class=\"dataframe\">\n",
       "  <thead>\n",
       "    <tr style=\"text-align: right;\">\n",
       "      <th></th>\n",
       "      <th>count</th>\n",
       "    </tr>\n",
       "    <tr>\n",
       "      <th>category_id</th>\n",
       "      <th></th>\n",
       "    </tr>\n",
       "  </thead>\n",
       "  <tbody>\n",
       "    <tr>\n",
       "      <th>24</th>\n",
       "      <td>8955</td>\n",
       "    </tr>\n",
       "    <tr>\n",
       "      <th>25</th>\n",
       "      <td>7582</td>\n",
       "    </tr>\n",
       "    <tr>\n",
       "      <th>22</th>\n",
       "      <td>7056</td>\n",
       "    </tr>\n",
       "    <tr>\n",
       "      <th>1</th>\n",
       "      <td>2200</td>\n",
       "    </tr>\n",
       "    <tr>\n",
       "      <th>23</th>\n",
       "      <td>2056</td>\n",
       "    </tr>\n",
       "  </tbody>\n",
       "</table>\n",
       "</div>"
      ],
      "text/plain": [
       "             count\n",
       "category_id       \n",
       "24            8955\n",
       "25            7582\n",
       "22            7056\n",
       "1             2200\n",
       "23            2056"
      ]
     },
     "execution_count": 20,
     "metadata": {},
     "output_type": "execute_result"
    }
   ],
   "source": [
    "# 한국\n",
    "KR_popular_cat = KR.groupby('category_id').count().sort_values('trending_date', ascending=False)\n",
    "KR_popular_cat['count'] = KR_popular_cat['trending_date']\n",
    "KR_popular_cat = KR_popular_cat.loc[:,['count']]\n",
    "KR_popular_cat = KR_popular_cat.sort_values('count', ascending=False)\n",
    "\n",
    "# top 10\n",
    "KR_popular_cat_top5 = KR_popular_cat.iloc[:5]\n",
    "KR_popular_cat_top5"
   ]
  },
  {
   "cell_type": "code",
   "execution_count": 21,
   "metadata": {},
   "outputs": [
    {
     "data": {
      "text/plain": [
       "{'kind': 'youtube#videoCategoryListResponse',\n",
       " 'etag': '\"XI7nbFXulYBIpL0ayR_gDh3eu1k/1v2mrzYSYG6onNLt2qTj13hkQZk\"',\n",
       " 'items': [{'kind': 'youtube#videoCategory',\n",
       "   'etag': '\"XI7nbFXulYBIpL0ayR_gDh3eu1k/Xy1mB4_yLrHy_BmKmPBggty2mZQ\"',\n",
       "   'id': '1',\n",
       "   'snippet': {'channelId': 'UCBR8-60-B28hp2BmDPdntcQ',\n",
       "    'title': 'Film & Animation',\n",
       "    'assignable': True}},\n",
       "  {'kind': 'youtube#videoCategory',\n",
       "   'etag': '\"XI7nbFXulYBIpL0ayR_gDh3eu1k/UZ1oLIIz2dxIhO45ZTFR3a3NyTA\"',\n",
       "   'id': '2',\n",
       "   'snippet': {'channelId': 'UCBR8-60-B28hp2BmDPdntcQ',\n",
       "    'title': 'Autos & Vehicles',\n",
       "    'assignable': True}},\n",
       "  {'kind': 'youtube#videoCategory',\n",
       "   'etag': '\"XI7nbFXulYBIpL0ayR_gDh3eu1k/nqRIq97-xe5XRZTxbknKFVe5Lmg\"',\n",
       "   'id': '10',\n",
       "   'snippet': {'channelId': 'UCBR8-60-B28hp2BmDPdntcQ',\n",
       "    'title': 'Music',\n",
       "    'assignable': True}},\n",
       "  {'kind': 'youtube#videoCategory',\n",
       "   'etag': '\"XI7nbFXulYBIpL0ayR_gDh3eu1k/HwXKamM1Q20q9BN-oBJavSGkfDI\"',\n",
       "   'id': '15',\n",
       "   'snippet': {'channelId': 'UCBR8-60-B28hp2BmDPdntcQ',\n",
       "    'title': 'Pets & Animals',\n",
       "    'assignable': True}},\n",
       "  {'kind': 'youtube#videoCategory',\n",
       "   'etag': '\"XI7nbFXulYBIpL0ayR_gDh3eu1k/9GQMSRjrZdHeb1OEM1XVQ9zbGec\"',\n",
       "   'id': '17',\n",
       "   'snippet': {'channelId': 'UCBR8-60-B28hp2BmDPdntcQ',\n",
       "    'title': 'Sports',\n",
       "    'assignable': True}},\n",
       "  {'kind': 'youtube#videoCategory',\n",
       "   'etag': '\"XI7nbFXulYBIpL0ayR_gDh3eu1k/FJwVpGCVZ1yiJrqZbpqe68Sy_OE\"',\n",
       "   'id': '18',\n",
       "   'snippet': {'channelId': 'UCBR8-60-B28hp2BmDPdntcQ',\n",
       "    'title': 'Short Movies',\n",
       "    'assignable': False}},\n",
       "  {'kind': 'youtube#videoCategory',\n",
       "   'etag': '\"XI7nbFXulYBIpL0ayR_gDh3eu1k/M-3iD9dwK7YJCafRf_DkLN8CouA\"',\n",
       "   'id': '19',\n",
       "   'snippet': {'channelId': 'UCBR8-60-B28hp2BmDPdntcQ',\n",
       "    'title': 'Travel & Events',\n",
       "    'assignable': True}},\n",
       "  {'kind': 'youtube#videoCategory',\n",
       "   'etag': '\"XI7nbFXulYBIpL0ayR_gDh3eu1k/WmA0qYEfjWsAoyJFSw2zinhn2wM\"',\n",
       "   'id': '20',\n",
       "   'snippet': {'channelId': 'UCBR8-60-B28hp2BmDPdntcQ',\n",
       "    'title': 'Gaming',\n",
       "    'assignable': True}},\n",
       "  {'kind': 'youtube#videoCategory',\n",
       "   'etag': '\"XI7nbFXulYBIpL0ayR_gDh3eu1k/EapFaGYG7K0StIXVf8aba249tdM\"',\n",
       "   'id': '21',\n",
       "   'snippet': {'channelId': 'UCBR8-60-B28hp2BmDPdntcQ',\n",
       "    'title': 'Videoblogging',\n",
       "    'assignable': False}},\n",
       "  {'kind': 'youtube#videoCategory',\n",
       "   'etag': '\"XI7nbFXulYBIpL0ayR_gDh3eu1k/xId8RX7vRN8rqkbYZbNIytUQDRo\"',\n",
       "   'id': '22',\n",
       "   'snippet': {'channelId': 'UCBR8-60-B28hp2BmDPdntcQ',\n",
       "    'title': 'People & Blogs',\n",
       "    'assignable': True}},\n",
       "  {'kind': 'youtube#videoCategory',\n",
       "   'etag': '\"XI7nbFXulYBIpL0ayR_gDh3eu1k/G9LHzQmx44rX2S5yaga_Aqtwz8M\"',\n",
       "   'id': '23',\n",
       "   'snippet': {'channelId': 'UCBR8-60-B28hp2BmDPdntcQ',\n",
       "    'title': 'Comedy',\n",
       "    'assignable': True}},\n",
       "  {'kind': 'youtube#videoCategory',\n",
       "   'etag': '\"XI7nbFXulYBIpL0ayR_gDh3eu1k/UVB9oxX2Bvqa_w_y3vXSLVK5E_s\"',\n",
       "   'id': '24',\n",
       "   'snippet': {'channelId': 'UCBR8-60-B28hp2BmDPdntcQ',\n",
       "    'title': 'Entertainment',\n",
       "    'assignable': True}},\n",
       "  {'kind': 'youtube#videoCategory',\n",
       "   'etag': '\"XI7nbFXulYBIpL0ayR_gDh3eu1k/QiLK0ZIrFoORdk_g2l_XR_ECjDc\"',\n",
       "   'id': '25',\n",
       "   'snippet': {'channelId': 'UCBR8-60-B28hp2BmDPdntcQ',\n",
       "    'title': 'News & Politics',\n",
       "    'assignable': True}},\n",
       "  {'kind': 'youtube#videoCategory',\n",
       "   'etag': '\"XI7nbFXulYBIpL0ayR_gDh3eu1k/r6Ck6Z0_L0rG37VJQR200SGNA_w\"',\n",
       "   'id': '26',\n",
       "   'snippet': {'channelId': 'UCBR8-60-B28hp2BmDPdntcQ',\n",
       "    'title': 'Howto & Style',\n",
       "    'assignable': True}},\n",
       "  {'kind': 'youtube#videoCategory',\n",
       "   'etag': '\"XI7nbFXulYBIpL0ayR_gDh3eu1k/EoYkczo9I3RCf96RveKTOgOPkUM\"',\n",
       "   'id': '27',\n",
       "   'snippet': {'channelId': 'UCBR8-60-B28hp2BmDPdntcQ',\n",
       "    'title': 'Education',\n",
       "    'assignable': True}},\n",
       "  {'kind': 'youtube#videoCategory',\n",
       "   'etag': '\"XI7nbFXulYBIpL0ayR_gDh3eu1k/w5HjcTD82G_XA3xBctS30zS-JpQ\"',\n",
       "   'id': '28',\n",
       "   'snippet': {'channelId': 'UCBR8-60-B28hp2BmDPdntcQ',\n",
       "    'title': 'Science & Technology',\n",
       "    'assignable': True}},\n",
       "  {'kind': 'youtube#videoCategory',\n",
       "   'etag': '\"XI7nbFXulYBIpL0ayR_gDh3eu1k/lL7uWDr_071CHxifjYG1tJrp4Uo\"',\n",
       "   'id': '30',\n",
       "   'snippet': {'channelId': 'UCBR8-60-B28hp2BmDPdntcQ',\n",
       "    'title': 'Movies',\n",
       "    'assignable': False}},\n",
       "  {'kind': 'youtube#videoCategory',\n",
       "   'etag': '\"XI7nbFXulYBIpL0ayR_gDh3eu1k/WnuVfjO-PyFLO7NTRQIbrGE62nk\"',\n",
       "   'id': '31',\n",
       "   'snippet': {'channelId': 'UCBR8-60-B28hp2BmDPdntcQ',\n",
       "    'title': 'Anime/Animation',\n",
       "    'assignable': False}},\n",
       "  {'kind': 'youtube#videoCategory',\n",
       "   'etag': '\"XI7nbFXulYBIpL0ayR_gDh3eu1k/ctpH2hGA_UZ3volJT_FTlOg9M00\"',\n",
       "   'id': '32',\n",
       "   'snippet': {'channelId': 'UCBR8-60-B28hp2BmDPdntcQ',\n",
       "    'title': 'Action/Adventure',\n",
       "    'assignable': False}},\n",
       "  {'kind': 'youtube#videoCategory',\n",
       "   'etag': '\"XI7nbFXulYBIpL0ayR_gDh3eu1k/L0kR3-g1BAo5UD1PLVbQ7LkkDtQ\"',\n",
       "   'id': '33',\n",
       "   'snippet': {'channelId': 'UCBR8-60-B28hp2BmDPdntcQ',\n",
       "    'title': 'Classics',\n",
       "    'assignable': False}},\n",
       "  {'kind': 'youtube#videoCategory',\n",
       "   'etag': '\"XI7nbFXulYBIpL0ayR_gDh3eu1k/pUZOAC_s9sfiwar639qr_wAB-aI\"',\n",
       "   'id': '34',\n",
       "   'snippet': {'channelId': 'UCBR8-60-B28hp2BmDPdntcQ',\n",
       "    'title': 'Comedy',\n",
       "    'assignable': False}},\n",
       "  {'kind': 'youtube#videoCategory',\n",
       "   'etag': '\"XI7nbFXulYBIpL0ayR_gDh3eu1k/Xb5JLhtyNRN3AQq021Ds-OV50Jk\"',\n",
       "   'id': '35',\n",
       "   'snippet': {'channelId': 'UCBR8-60-B28hp2BmDPdntcQ',\n",
       "    'title': 'Documentary',\n",
       "    'assignable': False}},\n",
       "  {'kind': 'youtube#videoCategory',\n",
       "   'etag': '\"XI7nbFXulYBIpL0ayR_gDh3eu1k/u8WXzF4HIhtEi805__sqjuA4lEk\"',\n",
       "   'id': '36',\n",
       "   'snippet': {'channelId': 'UCBR8-60-B28hp2BmDPdntcQ',\n",
       "    'title': 'Drama',\n",
       "    'assignable': False}},\n",
       "  {'kind': 'youtube#videoCategory',\n",
       "   'etag': '\"XI7nbFXulYBIpL0ayR_gDh3eu1k/D04PP4Gr7wc4IV_O9G66Z4A8KWQ\"',\n",
       "   'id': '37',\n",
       "   'snippet': {'channelId': 'UCBR8-60-B28hp2BmDPdntcQ',\n",
       "    'title': 'Family',\n",
       "    'assignable': False}},\n",
       "  {'kind': 'youtube#videoCategory',\n",
       "   'etag': '\"XI7nbFXulYBIpL0ayR_gDh3eu1k/i5-_AceGXQCEEMWU0V8CcQm_vLQ\"',\n",
       "   'id': '38',\n",
       "   'snippet': {'channelId': 'UCBR8-60-B28hp2BmDPdntcQ',\n",
       "    'title': 'Foreign',\n",
       "    'assignable': False}},\n",
       "  {'kind': 'youtube#videoCategory',\n",
       "   'etag': '\"XI7nbFXulYBIpL0ayR_gDh3eu1k/rtlxd0zOixA9QHdIZB26-St5qgQ\"',\n",
       "   'id': '39',\n",
       "   'snippet': {'channelId': 'UCBR8-60-B28hp2BmDPdntcQ',\n",
       "    'title': 'Horror',\n",
       "    'assignable': False}},\n",
       "  {'kind': 'youtube#videoCategory',\n",
       "   'etag': '\"XI7nbFXulYBIpL0ayR_gDh3eu1k/N1TrDFLRppxZgBowCJfJCvh0Dpg\"',\n",
       "   'id': '40',\n",
       "   'snippet': {'channelId': 'UCBR8-60-B28hp2BmDPdntcQ',\n",
       "    'title': 'Sci-Fi/Fantasy',\n",
       "    'assignable': False}},\n",
       "  {'kind': 'youtube#videoCategory',\n",
       "   'etag': '\"XI7nbFXulYBIpL0ayR_gDh3eu1k/7UMGi6zRySqXopr_rv4sZq6Za2E\"',\n",
       "   'id': '41',\n",
       "   'snippet': {'channelId': 'UCBR8-60-B28hp2BmDPdntcQ',\n",
       "    'title': 'Thriller',\n",
       "    'assignable': False}},\n",
       "  {'kind': 'youtube#videoCategory',\n",
       "   'etag': '\"XI7nbFXulYBIpL0ayR_gDh3eu1k/RScXhi324h8usyIetreAVb-uKeM\"',\n",
       "   'id': '42',\n",
       "   'snippet': {'channelId': 'UCBR8-60-B28hp2BmDPdntcQ',\n",
       "    'title': 'Shorts',\n",
       "    'assignable': False}},\n",
       "  {'kind': 'youtube#videoCategory',\n",
       "   'etag': '\"XI7nbFXulYBIpL0ayR_gDh3eu1k/0n9MJVCDLpA8q7aiGVrFsuFsd0A\"',\n",
       "   'id': '43',\n",
       "   'snippet': {'channelId': 'UCBR8-60-B28hp2BmDPdntcQ',\n",
       "    'title': 'Shows',\n",
       "    'assignable': False}},\n",
       "  {'kind': 'youtube#videoCategory',\n",
       "   'etag': '\"XI7nbFXulYBIpL0ayR_gDh3eu1k/x5NxSf5fz8hn4loSN4rvhwzD_pY\"',\n",
       "   'id': '44',\n",
       "   'snippet': {'channelId': 'UCBR8-60-B28hp2BmDPdntcQ',\n",
       "    'title': 'Trailers',\n",
       "    'assignable': False}}]}"
      ]
     },
     "execution_count": 21,
     "metadata": {},
     "output_type": "execute_result"
    }
   ],
   "source": [
    "import json\n",
    "\n",
    "with open('./youtube-new/KR_category_id.json') as KR:\n",
    "    KR_category = json.load(KR)\n",
    "    \n",
    "KR_category"
   ]
  },
  {
   "cell_type": "markdown",
   "metadata": {},
   "source": [
    "24 - 'Entertainment', 25 - 'News & Politics', 22 - 'People & Blogs', 1 - 'Film & Animation', 23 - 'Comedy'\n",
    "따라서, 한국의 인기 카테고리 순위는 Entertainment, News & Politics, People & Blogs, Film & Animation, Comedy 순인 것을 알 수 있음.\n"
   ]
  },
  {
   "cell_type": "code",
   "execution_count": 22,
   "metadata": {},
   "outputs": [
    {
     "data": {
      "text/html": [
       "<div>\n",
       "<style scoped>\n",
       "    .dataframe tbody tr th:only-of-type {\n",
       "        vertical-align: middle;\n",
       "    }\n",
       "\n",
       "    .dataframe tbody tr th {\n",
       "        vertical-align: top;\n",
       "    }\n",
       "\n",
       "    .dataframe thead th {\n",
       "        text-align: right;\n",
       "    }\n",
       "</style>\n",
       "<table border=\"1\" class=\"dataframe\">\n",
       "  <thead>\n",
       "    <tr style=\"text-align: right;\">\n",
       "      <th></th>\n",
       "      <th>count</th>\n",
       "    </tr>\n",
       "    <tr>\n",
       "      <th>category_id</th>\n",
       "      <th></th>\n",
       "    </tr>\n",
       "  </thead>\n",
       "  <tbody>\n",
       "    <tr>\n",
       "      <th>24</th>\n",
       "      <td>9964</td>\n",
       "    </tr>\n",
       "    <tr>\n",
       "      <th>10</th>\n",
       "      <td>6472</td>\n",
       "    </tr>\n",
       "    <tr>\n",
       "      <th>26</th>\n",
       "      <td>4146</td>\n",
       "    </tr>\n",
       "    <tr>\n",
       "      <th>23</th>\n",
       "      <td>3457</td>\n",
       "    </tr>\n",
       "    <tr>\n",
       "      <th>22</th>\n",
       "      <td>3210</td>\n",
       "    </tr>\n",
       "  </tbody>\n",
       "</table>\n",
       "</div>"
      ],
      "text/plain": [
       "             count\n",
       "category_id       \n",
       "24            9964\n",
       "10            6472\n",
       "26            4146\n",
       "23            3457\n",
       "22            3210"
      ]
     },
     "execution_count": 22,
     "metadata": {},
     "output_type": "execute_result"
    }
   ],
   "source": [
    "# 미국\n",
    "US_popular_cat = US.groupby('category_id').count().sort_values('trending_date', ascending=False)\n",
    "US_popular_cat['count'] = US_popular_cat['trending_date']\n",
    "US_popular_cat = US_popular_cat.loc[:,['count']]\n",
    "US_popular_cat = US_popular_cat.sort_values('count', ascending=False)\n",
    "\n",
    "# top 10\n",
    "US_popular_cat_top5 = US_popular_cat.iloc[:5]\n",
    "US_popular_cat_top5"
   ]
  },
  {
   "cell_type": "code",
   "execution_count": 23,
   "metadata": {},
   "outputs": [
    {
     "data": {
      "text/plain": [
       "{'kind': 'youtube#videoCategoryListResponse',\n",
       " 'etag': '\"m2yskBQFythfE4irbTIeOgYYfBU/S730Ilt-Fi-emsQJvJAAShlR6hM\"',\n",
       " 'items': [{'kind': 'youtube#videoCategory',\n",
       "   'etag': '\"m2yskBQFythfE4irbTIeOgYYfBU/Xy1mB4_yLrHy_BmKmPBggty2mZQ\"',\n",
       "   'id': '1',\n",
       "   'snippet': {'channelId': 'UCBR8-60-B28hp2BmDPdntcQ',\n",
       "    'title': 'Film & Animation',\n",
       "    'assignable': True}},\n",
       "  {'kind': 'youtube#videoCategory',\n",
       "   'etag': '\"m2yskBQFythfE4irbTIeOgYYfBU/UZ1oLIIz2dxIhO45ZTFR3a3NyTA\"',\n",
       "   'id': '2',\n",
       "   'snippet': {'channelId': 'UCBR8-60-B28hp2BmDPdntcQ',\n",
       "    'title': 'Autos & Vehicles',\n",
       "    'assignable': True}},\n",
       "  {'kind': 'youtube#videoCategory',\n",
       "   'etag': '\"m2yskBQFythfE4irbTIeOgYYfBU/nqRIq97-xe5XRZTxbknKFVe5Lmg\"',\n",
       "   'id': '10',\n",
       "   'snippet': {'channelId': 'UCBR8-60-B28hp2BmDPdntcQ',\n",
       "    'title': 'Music',\n",
       "    'assignable': True}},\n",
       "  {'kind': 'youtube#videoCategory',\n",
       "   'etag': '\"m2yskBQFythfE4irbTIeOgYYfBU/HwXKamM1Q20q9BN-oBJavSGkfDI\"',\n",
       "   'id': '15',\n",
       "   'snippet': {'channelId': 'UCBR8-60-B28hp2BmDPdntcQ',\n",
       "    'title': 'Pets & Animals',\n",
       "    'assignable': True}},\n",
       "  {'kind': 'youtube#videoCategory',\n",
       "   'etag': '\"m2yskBQFythfE4irbTIeOgYYfBU/9GQMSRjrZdHeb1OEM1XVQ9zbGec\"',\n",
       "   'id': '17',\n",
       "   'snippet': {'channelId': 'UCBR8-60-B28hp2BmDPdntcQ',\n",
       "    'title': 'Sports',\n",
       "    'assignable': True}},\n",
       "  {'kind': 'youtube#videoCategory',\n",
       "   'etag': '\"m2yskBQFythfE4irbTIeOgYYfBU/FJwVpGCVZ1yiJrqZbpqe68Sy_OE\"',\n",
       "   'id': '18',\n",
       "   'snippet': {'channelId': 'UCBR8-60-B28hp2BmDPdntcQ',\n",
       "    'title': 'Short Movies',\n",
       "    'assignable': False}},\n",
       "  {'kind': 'youtube#videoCategory',\n",
       "   'etag': '\"m2yskBQFythfE4irbTIeOgYYfBU/M-3iD9dwK7YJCafRf_DkLN8CouA\"',\n",
       "   'id': '19',\n",
       "   'snippet': {'channelId': 'UCBR8-60-B28hp2BmDPdntcQ',\n",
       "    'title': 'Travel & Events',\n",
       "    'assignable': True}},\n",
       "  {'kind': 'youtube#videoCategory',\n",
       "   'etag': '\"m2yskBQFythfE4irbTIeOgYYfBU/WmA0qYEfjWsAoyJFSw2zinhn2wM\"',\n",
       "   'id': '20',\n",
       "   'snippet': {'channelId': 'UCBR8-60-B28hp2BmDPdntcQ',\n",
       "    'title': 'Gaming',\n",
       "    'assignable': True}},\n",
       "  {'kind': 'youtube#videoCategory',\n",
       "   'etag': '\"m2yskBQFythfE4irbTIeOgYYfBU/EapFaGYG7K0StIXVf8aba249tdM\"',\n",
       "   'id': '21',\n",
       "   'snippet': {'channelId': 'UCBR8-60-B28hp2BmDPdntcQ',\n",
       "    'title': 'Videoblogging',\n",
       "    'assignable': False}},\n",
       "  {'kind': 'youtube#videoCategory',\n",
       "   'etag': '\"m2yskBQFythfE4irbTIeOgYYfBU/xId8RX7vRN8rqkbYZbNIytUQDRo\"',\n",
       "   'id': '22',\n",
       "   'snippet': {'channelId': 'UCBR8-60-B28hp2BmDPdntcQ',\n",
       "    'title': 'People & Blogs',\n",
       "    'assignable': True}},\n",
       "  {'kind': 'youtube#videoCategory',\n",
       "   'etag': '\"m2yskBQFythfE4irbTIeOgYYfBU/G9LHzQmx44rX2S5yaga_Aqtwz8M\"',\n",
       "   'id': '23',\n",
       "   'snippet': {'channelId': 'UCBR8-60-B28hp2BmDPdntcQ',\n",
       "    'title': 'Comedy',\n",
       "    'assignable': True}},\n",
       "  {'kind': 'youtube#videoCategory',\n",
       "   'etag': '\"m2yskBQFythfE4irbTIeOgYYfBU/UVB9oxX2Bvqa_w_y3vXSLVK5E_s\"',\n",
       "   'id': '24',\n",
       "   'snippet': {'channelId': 'UCBR8-60-B28hp2BmDPdntcQ',\n",
       "    'title': 'Entertainment',\n",
       "    'assignable': True}},\n",
       "  {'kind': 'youtube#videoCategory',\n",
       "   'etag': '\"m2yskBQFythfE4irbTIeOgYYfBU/QiLK0ZIrFoORdk_g2l_XR_ECjDc\"',\n",
       "   'id': '25',\n",
       "   'snippet': {'channelId': 'UCBR8-60-B28hp2BmDPdntcQ',\n",
       "    'title': 'News & Politics',\n",
       "    'assignable': True}},\n",
       "  {'kind': 'youtube#videoCategory',\n",
       "   'etag': '\"m2yskBQFythfE4irbTIeOgYYfBU/r6Ck6Z0_L0rG37VJQR200SGNA_w\"',\n",
       "   'id': '26',\n",
       "   'snippet': {'channelId': 'UCBR8-60-B28hp2BmDPdntcQ',\n",
       "    'title': 'Howto & Style',\n",
       "    'assignable': True}},\n",
       "  {'kind': 'youtube#videoCategory',\n",
       "   'etag': '\"m2yskBQFythfE4irbTIeOgYYfBU/EoYkczo9I3RCf96RveKTOgOPkUM\"',\n",
       "   'id': '27',\n",
       "   'snippet': {'channelId': 'UCBR8-60-B28hp2BmDPdntcQ',\n",
       "    'title': 'Education',\n",
       "    'assignable': True}},\n",
       "  {'kind': 'youtube#videoCategory',\n",
       "   'etag': '\"m2yskBQFythfE4irbTIeOgYYfBU/w5HjcTD82G_XA3xBctS30zS-JpQ\"',\n",
       "   'id': '28',\n",
       "   'snippet': {'channelId': 'UCBR8-60-B28hp2BmDPdntcQ',\n",
       "    'title': 'Science & Technology',\n",
       "    'assignable': True}},\n",
       "  {'kind': 'youtube#videoCategory',\n",
       "   'etag': '\"m2yskBQFythfE4irbTIeOgYYfBU/SalkJoBWq_smSEqiAx_qyri6Wa8\"',\n",
       "   'id': '29',\n",
       "   'snippet': {'channelId': 'UCBR8-60-B28hp2BmDPdntcQ',\n",
       "    'title': 'Nonprofits & Activism',\n",
       "    'assignable': True}},\n",
       "  {'kind': 'youtube#videoCategory',\n",
       "   'etag': '\"m2yskBQFythfE4irbTIeOgYYfBU/lL7uWDr_071CHxifjYG1tJrp4Uo\"',\n",
       "   'id': '30',\n",
       "   'snippet': {'channelId': 'UCBR8-60-B28hp2BmDPdntcQ',\n",
       "    'title': 'Movies',\n",
       "    'assignable': False}},\n",
       "  {'kind': 'youtube#videoCategory',\n",
       "   'etag': '\"m2yskBQFythfE4irbTIeOgYYfBU/WnuVfjO-PyFLO7NTRQIbrGE62nk\"',\n",
       "   'id': '31',\n",
       "   'snippet': {'channelId': 'UCBR8-60-B28hp2BmDPdntcQ',\n",
       "    'title': 'Anime/Animation',\n",
       "    'assignable': False}},\n",
       "  {'kind': 'youtube#videoCategory',\n",
       "   'etag': '\"m2yskBQFythfE4irbTIeOgYYfBU/ctpH2hGA_UZ3volJT_FTlOg9M00\"',\n",
       "   'id': '32',\n",
       "   'snippet': {'channelId': 'UCBR8-60-B28hp2BmDPdntcQ',\n",
       "    'title': 'Action/Adventure',\n",
       "    'assignable': False}},\n",
       "  {'kind': 'youtube#videoCategory',\n",
       "   'etag': '\"m2yskBQFythfE4irbTIeOgYYfBU/L0kR3-g1BAo5UD1PLVbQ7LkkDtQ\"',\n",
       "   'id': '33',\n",
       "   'snippet': {'channelId': 'UCBR8-60-B28hp2BmDPdntcQ',\n",
       "    'title': 'Classics',\n",
       "    'assignable': False}},\n",
       "  {'kind': 'youtube#videoCategory',\n",
       "   'etag': '\"m2yskBQFythfE4irbTIeOgYYfBU/pUZOAC_s9sfiwar639qr_wAB-aI\"',\n",
       "   'id': '34',\n",
       "   'snippet': {'channelId': 'UCBR8-60-B28hp2BmDPdntcQ',\n",
       "    'title': 'Comedy',\n",
       "    'assignable': False}},\n",
       "  {'kind': 'youtube#videoCategory',\n",
       "   'etag': '\"m2yskBQFythfE4irbTIeOgYYfBU/Xb5JLhtyNRN3AQq021Ds-OV50Jk\"',\n",
       "   'id': '35',\n",
       "   'snippet': {'channelId': 'UCBR8-60-B28hp2BmDPdntcQ',\n",
       "    'title': 'Documentary',\n",
       "    'assignable': False}},\n",
       "  {'kind': 'youtube#videoCategory',\n",
       "   'etag': '\"m2yskBQFythfE4irbTIeOgYYfBU/u8WXzF4HIhtEi805__sqjuA4lEk\"',\n",
       "   'id': '36',\n",
       "   'snippet': {'channelId': 'UCBR8-60-B28hp2BmDPdntcQ',\n",
       "    'title': 'Drama',\n",
       "    'assignable': False}},\n",
       "  {'kind': 'youtube#videoCategory',\n",
       "   'etag': '\"m2yskBQFythfE4irbTIeOgYYfBU/D04PP4Gr7wc4IV_O9G66Z4A8KWQ\"',\n",
       "   'id': '37',\n",
       "   'snippet': {'channelId': 'UCBR8-60-B28hp2BmDPdntcQ',\n",
       "    'title': 'Family',\n",
       "    'assignable': False}},\n",
       "  {'kind': 'youtube#videoCategory',\n",
       "   'etag': '\"m2yskBQFythfE4irbTIeOgYYfBU/i5-_AceGXQCEEMWU0V8CcQm_vLQ\"',\n",
       "   'id': '38',\n",
       "   'snippet': {'channelId': 'UCBR8-60-B28hp2BmDPdntcQ',\n",
       "    'title': 'Foreign',\n",
       "    'assignable': False}},\n",
       "  {'kind': 'youtube#videoCategory',\n",
       "   'etag': '\"m2yskBQFythfE4irbTIeOgYYfBU/rtlxd0zOixA9QHdIZB26-St5qgQ\"',\n",
       "   'id': '39',\n",
       "   'snippet': {'channelId': 'UCBR8-60-B28hp2BmDPdntcQ',\n",
       "    'title': 'Horror',\n",
       "    'assignable': False}},\n",
       "  {'kind': 'youtube#videoCategory',\n",
       "   'etag': '\"m2yskBQFythfE4irbTIeOgYYfBU/N1TrDFLRppxZgBowCJfJCvh0Dpg\"',\n",
       "   'id': '40',\n",
       "   'snippet': {'channelId': 'UCBR8-60-B28hp2BmDPdntcQ',\n",
       "    'title': 'Sci-Fi/Fantasy',\n",
       "    'assignable': False}},\n",
       "  {'kind': 'youtube#videoCategory',\n",
       "   'etag': '\"m2yskBQFythfE4irbTIeOgYYfBU/7UMGi6zRySqXopr_rv4sZq6Za2E\"',\n",
       "   'id': '41',\n",
       "   'snippet': {'channelId': 'UCBR8-60-B28hp2BmDPdntcQ',\n",
       "    'title': 'Thriller',\n",
       "    'assignable': False}},\n",
       "  {'kind': 'youtube#videoCategory',\n",
       "   'etag': '\"m2yskBQFythfE4irbTIeOgYYfBU/RScXhi324h8usyIetreAVb-uKeM\"',\n",
       "   'id': '42',\n",
       "   'snippet': {'channelId': 'UCBR8-60-B28hp2BmDPdntcQ',\n",
       "    'title': 'Shorts',\n",
       "    'assignable': False}},\n",
       "  {'kind': 'youtube#videoCategory',\n",
       "   'etag': '\"m2yskBQFythfE4irbTIeOgYYfBU/0n9MJVCDLpA8q7aiGVrFsuFsd0A\"',\n",
       "   'id': '43',\n",
       "   'snippet': {'channelId': 'UCBR8-60-B28hp2BmDPdntcQ',\n",
       "    'title': 'Shows',\n",
       "    'assignable': False}},\n",
       "  {'kind': 'youtube#videoCategory',\n",
       "   'etag': '\"m2yskBQFythfE4irbTIeOgYYfBU/x5NxSf5fz8hn4loSN4rvhwzD_pY\"',\n",
       "   'id': '44',\n",
       "   'snippet': {'channelId': 'UCBR8-60-B28hp2BmDPdntcQ',\n",
       "    'title': 'Trailers',\n",
       "    'assignable': False}}]}"
      ]
     },
     "execution_count": 23,
     "metadata": {},
     "output_type": "execute_result"
    }
   ],
   "source": [
    "import json\n",
    "\n",
    "with open('./youtube-new/US_category_id.json') as US:\n",
    "    US_category = json.load(US)\n",
    "    \n",
    "US_category"
   ]
  },
  {
   "cell_type": "markdown",
   "metadata": {},
   "source": [
    "24 - 'Entertainment', 10 - 'Music', 26 - 'Howto & Style', 23 - 'Comedy', 22 - 'People & Blogs'\n",
    "따라서, 미국의 인기 카테고리 순위는 Entertainment, Music, Howto & Style, Comedy, People & Blogs 순인 것을 알 수 있음.\n",
    "\n"
   ]
  },
  {
   "cell_type": "code",
   "execution_count": null,
   "metadata": {},
   "outputs": [],
   "source": []
  },
  {
   "cell_type": "code",
   "execution_count": null,
   "metadata": {},
   "outputs": [],
   "source": []
  },
  {
   "cell_type": "code",
   "execution_count": null,
   "metadata": {},
   "outputs": [],
   "source": []
  }
 ],
 "metadata": {
  "kernelspec": {
   "display_name": "Python 3",
   "language": "python",
   "name": "python3"
  },
  "language_info": {
   "codemirror_mode": {
    "name": "ipython",
    "version": 3
   },
   "file_extension": ".py",
   "mimetype": "text/x-python",
   "name": "python",
   "nbconvert_exporter": "python",
   "pygments_lexer": "ipython3",
   "version": "3.7.3"
  }
 },
 "nbformat": 4,
 "nbformat_minor": 2
}
