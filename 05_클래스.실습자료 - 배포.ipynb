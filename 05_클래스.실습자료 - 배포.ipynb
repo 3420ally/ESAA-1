{
 "cells": [
  {
   "cell_type": "markdown",
   "metadata": {},
   "source": [
    "### 1-1. 비어있는 사람(Human)클래스를 \"정의\" 하라"
   ]
  },
  {
   "cell_type": "code",
   "execution_count": 1,
   "metadata": {},
   "outputs": [],
   "source": [
    "class Human:\n",
    "    pass"
   ]
  },
  {
   "cell_type": "markdown",
   "metadata": {},
   "source": [
    "### 1-2. 사람(Human)클래스를 \"생성\"하고 areum변수에 할당해라"
   ]
  },
  {
   "cell_type": "code",
   "execution_count": 2,
   "metadata": {},
   "outputs": [],
   "source": [
    "areum = Human()"
   ]
  },
  {
   "cell_type": "markdown",
   "metadata": {},
   "source": [
    "### 1-3. 사람(Human)클래스에 \"응애응애\"를 출력하는 생성자를 추가해라"
   ]
  },
  {
   "cell_type": "code",
   "execution_count": 4,
   "metadata": {},
   "outputs": [],
   "source": [
    "class Human:\n",
    "    def __init__(self):\n",
    "        return print(\"응애응애\")"
   ]
  },
  {
   "cell_type": "code",
   "execution_count": 6,
   "metadata": {},
   "outputs": [
    {
     "name": "stdout",
     "output_type": "stream",
     "text": [
      "응애응애\n"
     ]
    }
   ],
   "source": [
    "#테스트\n",
    "a = Human()"
   ]
  },
  {
   "cell_type": "markdown",
   "metadata": {},
   "source": [
    "### 1-4. 사람(Human)클래스에 (이름,나이,성별)을 받는 생성자를 추가하여라"
   ]
  },
  {
   "cell_type": "code",
   "execution_count": null,
   "metadata": {},
   "outputs": [],
   "source": [
    "class Human:\n",
    "    def __init__(self, name, age, sex):\n",
    "        self.name = name\n",
    "        self.age = age\n",
    "        self.sex = sex"
   ]
  },
  {
   "cell_type": "markdown",
   "metadata": {},
   "source": [
    "### 1-5. 위에서 생성한 인스턴스의 이름, 나이, 성별을 출력하여라. 인스턴스 변수에 접근하여 값을 얻어 오세요."
   ]
  },
  {
   "cell_type": "code",
   "execution_count": 27,
   "metadata": {},
   "outputs": [
    {
     "name": "stdout",
     "output_type": "stream",
     "text": [
      "김현경 23 F\n"
     ]
    },
    {
     "data": {
      "text/plain": [
       "<__main__.Human at 0x1094b7828>"
      ]
     },
     "execution_count": 27,
     "metadata": {},
     "output_type": "execute_result"
    }
   ],
   "source": [
    "class Human:\n",
    "    def __init__(self, name, age, sex):\n",
    "        self.name = name\n",
    "        self.age = age\n",
    "        self.sex = sex\n",
    "        return print(self.name, self.age, self.sex)\n",
    "\n",
    "#테스트\n",
    "Human('김현경', 23, 'F')"
   ]
  },
  {
   "cell_type": "markdown",
   "metadata": {},
   "source": [
    "### 1-6.사람 (Human) 클래스에서 이름, 나이, 성별을 출력하는 who() 메소드를 구현하여라."
   ]
  },
  {
   "cell_type": "code",
   "execution_count": 31,
   "metadata": {},
   "outputs": [
    {
     "name": "stdout",
     "output_type": "stream",
     "text": [
      "김현경 23 F\n"
     ]
    }
   ],
   "source": [
    "class Human:\n",
    "    def __init__(self, name, age, sex):\n",
    "        self.name = name\n",
    "        self.age = age\n",
    "        self.sex = sex\n",
    "    def who(self):\n",
    "        return print(self.name, self.age, self.sex)\n",
    "\n",
    "#테스트\n",
    "me = Human('김현경', 23, 'F')\n",
    "me.who()"
   ]
  },
  {
   "cell_type": "markdown",
   "metadata": {},
   "source": [
    "### 1-7.사람 (Human) 클래스에 (이름, 나이, 성별)을 받는 setInfo 메소드를 추가하여라."
   ]
  },
  {
   "cell_type": "code",
   "execution_count": 37,
   "metadata": {},
   "outputs": [
    {
     "name": "stdout",
     "output_type": "stream",
     "text": [
      "김현경\n",
      "23\n",
      "F\n"
     ]
    }
   ],
   "source": [
    "class Human:\n",
    "    def setInfo(self, name, age, sex):\n",
    "        self.name = name\n",
    "        self.age = age\n",
    "        self.sex = sex\n",
    "    def name(self):\n",
    "        result = self.name\n",
    "        return result\n",
    "    def age(self):\n",
    "        result = self.age\n",
    "        return result\n",
    "    def sex(self):\n",
    "        result = self.sex\n",
    "        return result\n",
    "\n",
    "#테스트\n",
    "me = Human()\n",
    "me.setInfo('김현경', 23, 'F')\n",
    "print(me.name)\n",
    "print(me.age)\n",
    "print(me.sex)"
   ]
  },
  {
   "cell_type": "markdown",
   "metadata": {},
   "source": [
    "### 2.다음은 Calculator 클래스이다."
   ]
  },
  {
   "cell_type": "code",
   "execution_count": 56,
   "metadata": {},
   "outputs": [
    {
     "name": "stdout",
     "output_type": "stream",
     "text": [
      "3\n",
      "4\n"
     ]
    }
   ],
   "source": [
    "class Calculator:\n",
    "    def __init__(self):\n",
    "        self.value = 0\n",
    "\n",
    "    def add(self, val):\n",
    "        self.value += val\n",
    "\n",
    "#테스트\n",
    "a = Calculator()\n",
    "a.add(3)\n",
    "print(a.value)\n",
    "a.add(1)\n",
    "print(a.value)"
   ]
  },
  {
   "cell_type": "markdown",
   "metadata": {},
   "source": [
    "#### 위 클래스를 상속하는 UpgradeCalculator를 만들고 값을 뺄 수 있는 minus 메서드를 추가해 보자. 즉 다음과 같이 동작하는 클래스를 만들어야 한다."
   ]
  },
  {
   "cell_type": "code",
   "execution_count": 55,
   "metadata": {},
   "outputs": [
    {
     "name": "stdout",
     "output_type": "stream",
     "text": [
      "-2\n",
      "-6\n"
     ]
    }
   ],
   "source": [
    "class UpgradeCalculator(Calculator):\n",
    "    def minus(self, val):\n",
    "        self.value -= val\n",
    "\n",
    "#테스트\n",
    "a = UpgradeCalculator()\n",
    "a.minus(2)\n",
    "print(a.value)\n",
    "a.minus(4)\n",
    "print(a.value)"
   ]
  },
  {
   "cell_type": "markdown",
   "metadata": {},
   "source": [
    "### 3. 객체변수 value가 100 이상의 값은 가질 수 없도록 제한하는 MaxLimitCalculator 클래스를 만들어 보자. 즉 다음과 같이 동작해야 한다."
   ]
  },
  {
   "cell_type": "code",
   "execution_count": null,
   "metadata": {},
   "outputs": [],
   "source": [
    "#cal = MaxLimitCalculator()\n",
    "#cal.add(50) # 50 더하기\n",
    "#cal.add(60) # 60 더하기\n",
    "\n",
    "#print(cal.value) # 100 출력\n"
   ]
  },
  {
   "cell_type": "markdown",
   "metadata": {},
   "source": [
    "#### 단 반드시 다음과 같은 Calculator 클래스를 상속해서 만들어야 한다."
   ]
  },
  {
   "cell_type": "code",
   "execution_count": 66,
   "metadata": {},
   "outputs": [],
   "source": [
    "class Calculator:\n",
    "    def __init__(self):\n",
    "        self.value = 0\n",
    "\n",
    "    def add(self, val):\n",
    "        self.value += val"
   ]
  },
  {
   "cell_type": "code",
   "execution_count": 69,
   "metadata": {
    "scrolled": true
   },
   "outputs": [
    {
     "name": "stdout",
     "output_type": "stream",
     "text": [
      "100\n"
     ]
    }
   ],
   "source": [
    "class MaxLimitCalculator(Calculator):\n",
    "        def add(self, val):\n",
    "            self.value += val\n",
    "            if self.value >= 100:\n",
    "                self.value = 100\n",
    "            \n",
    "cal = MaxLimitCalculator()\n",
    "cal.add(50)\n",
    "cal.add(60)\n",
    "print(cal.value)"
   ]
  },
  {
   "cell_type": "code",
   "execution_count": null,
   "metadata": {},
   "outputs": [],
   "source": []
  }
 ],
 "metadata": {
  "kernelspec": {
   "display_name": "Python 3",
   "language": "python",
   "name": "python3"
  },
  "language_info": {
   "codemirror_mode": {
    "name": "ipython",
    "version": 3
   },
   "file_extension": ".py",
   "mimetype": "text/x-python",
   "name": "python",
   "nbconvert_exporter": "python",
   "pygments_lexer": "ipython3",
   "version": "3.7.3"
  }
 },
 "nbformat": 4,
 "nbformat_minor": 2
}
